{
  "nbformat": 4,
  "nbformat_minor": 0,
  "metadata": {
    "colab": {
      "provenance": []
    },
    "kernelspec": {
      "name": "python3",
      "display_name": "Python 3"
    },
    "language_info": {
      "name": "python"
    }
  },
  "cells": [
    {
      "cell_type": "code",
      "execution_count": null,
      "metadata": {
        "id": "4mD_CtANNqEx"
      },
      "outputs": [],
      "source": [
        "import os\n",
        "import uvicorn\n",
        "import asyncio\n",
        "from typing import Union\n",
        "from fastapi import FastAPI, File, UploadFile\n",
        "from fastapi.responses import FileResponse\n",
        "import uuid\n",
        "from PIL import Image\n",
        "import numpy as np\n",
        "from keras.models import load_model as keras_load_model\n",
        "\n",
        "IMAGEDIR = \"images/\"\n",
        "if not os.path.exists(IMAGEDIR):\n",
        "    os.makedirs(IMAGEDIR)\n",
        "\n",
        "app = FastAPI()\n",
        "\n",
        "model_path = \"C:\\\\Users\\\\Dell\\\\Downloads\\\\mnist-epoch-10.hdf5\"\n",
        "model = None\n",
        "\n",
        "def load_model(model_path):\n",
        "    return keras_load_model(model_path)\n",
        "\n",
        "async def get_model():\n",
        "    global model\n",
        "    if model is None:\n",
        "        model = load_model(model_path)\n",
        "    return model\n",
        "\n",
        "def format_image(image):\n",
        "    # Convert the image to grayscale and resize to 28x28\n",
        "    image = image.convert(\"L\").resize((28, 28))\n",
        "    # Convert the image to a numpy array\n",
        "    image_array = np.array(image)\n",
        "    # Flatten and normalize the pixel values\n",
        "    normalized_image = image_array.reshape(1, 784) / 255.0\n",
        "    return normalized_image\n",
        "\n",
        "async def predict(img):\n",
        "    model = await get_model()\n",
        "    x = format_image(img)\n",
        "    prediction = model.predict(x)\n",
        "    digit = np.argmax(prediction)\n",
        "    return str(digit)\n",
        "\n",
        "@app.post(\"/upload/\")\n",
        "async def create_upload_file(file: UploadFile = File(...)):\n",
        "    file.filename = f\"{uuid.uuid4()}.jpg\"\n",
        "    contents = await file.read()\n",
        "    # Save the file\n",
        "    with open(f\"{IMAGEDIR}{file.filename}\", \"wb\") as f:\n",
        "        f.write(contents)\n",
        "\n",
        "    img = Image.open(f'{IMAGEDIR}{file.filename}')\n",
        "    ans = await predict(img)\n",
        "\n",
        "    os.remove(f'{IMAGEDIR}{file.filename}')\n",
        "    return {\"digit\": ans}\n",
        "\n",
        "if __name__ == \"__main__\":\n",
        "    uvicorn.run(app, host=\"0.0.0.0\", port=8000)\n"
      ]
    }
  ]
}